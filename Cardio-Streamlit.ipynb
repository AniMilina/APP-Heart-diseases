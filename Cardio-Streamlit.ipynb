{
 "cells": [
  {
   "cell_type": "markdown",
   "id": "1f50fba7",
   "metadata": {},
   "source": [
    "## Imports"
   ]
  },
  {
   "cell_type": "code",
   "execution_count": 2,
   "id": "ed03b59c",
   "metadata": {},
   "outputs": [],
   "source": [
    "import pandas as pd\n",
    "import numpy as np\n",
    "import streamlit as st\n",
    "import sklearn\n",
    "import joblib\n",
    "# import pickle\n",
    "# from PIL import Image"
   ]
  },
  {
   "cell_type": "markdown",
   "id": "e8256fd3",
   "metadata": {},
   "source": [
    "## Constants"
   ]
  },
  {
   "cell_type": "code",
   "execution_count": null,
   "id": "628ade51",
   "metadata": {
    "scrolled": true
   },
   "outputs": [],
   "source": [
    "PATH_DATA = ''\n",
    "CR='\\n'\n",
    "\n",
    "# text styles\n",
    "class f:\n",
    "    BOLD = \"\\033[1m\"\n",
    "    ITALIC = \"\\033[3m\"\n",
    "    END = \"\\033[0m\""
   ]
  },
  {
   "cell_type": "markdown",
   "id": "080e37a3",
   "metadata": {},
   "source": [
    "## Settings"
   ]
  },
  {
   "cell_type": "code",
   "execution_count": null,
   "id": "a3c4f0b0",
   "metadata": {},
   "outputs": [],
   "source": [
    "st.set_page_config(\n",
    "                   page_title='Cardiovascular disease prediction',\n",
    "                   page_icon='⚕️',\n",
    "                   initial_sidebar_state='expanded',\n",
    "                   menu_items={\n",
    "#                                'Get Help': 'https://....',\n",
    "#                                'Report a bug': \"https://....\",\n",
    "                               'About': 'Written by Sergei Vasiliev. Fell free contact to me in Telegram @nanobelkads.'\n",
    "                              }\n",
    "                 )"
   ]
  },
  {
   "cell_type": "markdown",
   "id": "7d8542df",
   "metadata": {},
   "source": [
    "## Functions"
   ]
  },
  {
   "cell_type": "code",
   "execution_count": null,
   "id": "98bddefe",
   "metadata": {},
   "outputs": [],
   "source": [
    "@st.cache_resource\n",
    "def load_model_local():\n",
    "\n",
    "#     with open(f'{PATH_DATA}model_dump.pcl', 'rb') as model_dump:\n",
    "#         model = pickle.load(model_dump)\n",
    "        \n",
    "    model = joblib.load(f'{PATH_DATA}model_dump.mdl')\n",
    "\n",
    "    return model"
   ]
  },
  {
   "cell_type": "code",
   "execution_count": null,
   "id": "7b37cc7a",
   "metadata": {},
   "outputs": [],
   "source": [
    "@st.cache_data\n",
    "def load_data_local(df_name, n_rows=5):\n",
    "    df = pd.read_csv(f'{PATH_DATA}{df_name}', nrows=n_rows)\n",
    "    return df"
   ]
  },
  {
   "cell_type": "code",
   "execution_count": null,
   "id": "80446bef",
   "metadata": {},
   "outputs": [],
   "source": [
    "@st.cache_data\n",
    "def target_encode(df_train, df_test, feature_list, target, agg_func_list=['mean'], fill_na=0.5):\n",
    "    '''\n",
    "    Принимает feature_list и делает для него target encoding,\n",
    "    используя заданную агрегирующую функцию agg_func.\n",
    "    '''\n",
    "    \n",
    "    for agg_func in agg_func_list:\n",
    "    \n",
    "        new_feature = '_'.join(feature_list) + '_TRG_' + agg_func\n",
    "\n",
    "        df_train[new_feature] = df_train.groupby(feature_list)[target].transform(agg_func)\n",
    "        df_train[new_feature] = df_train[new_feature].fillna(fill_na)\n",
    "\n",
    "        df_test = df_test.merge(\n",
    "                                df_train[feature_list + [new_feature]].drop_duplicates(),\n",
    "                                on=feature_list,\n",
    "                                how=\"left\",\n",
    "                               )\n",
    "        df_test[new_feature] = df_test[new_feature].fillna(fill_na)\n",
    "\n",
    "    return df_test"
   ]
  },
  {
   "cell_type": "markdown",
   "id": "5b7ae6a9",
   "metadata": {},
   "source": [
    "## Loads"
   ]
  },
  {
   "cell_type": "code",
   "execution_count": null,
   "id": "d01ac1c2",
   "metadata": {},
   "outputs": [],
   "source": [
    "# загрузка модели из файла\n",
    "model = load_model_local()"
   ]
  },
  {
   "cell_type": "code",
   "execution_count": null,
   "id": "e9de2d29",
   "metadata": {},
   "outputs": [],
   "source": [
    "# загрузка обучающих данных из файла\n",
    "# приходится это делать, чтобы выполнить feature engineering\n",
    "# можно заменить большой train на несколько небольших таблиц с агрегированными данными\n",
    "\n",
    "data_train = load_data_local('EDA_train.csv', n_rows=None)"
   ]
  },
  {
   "cell_type": "code",
   "execution_count": null,
   "id": "176b27de",
   "metadata": {},
   "outputs": [],
   "source": [
    "# # НЕ ИСПОЛЬЗУЕТСЯ (ПОКА)\n",
    "\n",
    "# # загрузка предобработанных (после feature engineering) тестовых данных из файла\n",
    "# data = load_data_local('FE_test.csv', n_rows=3)\n",
    "\n",
    "# # прогноз для загруженных данных\n",
    "# data['cardio'] = model.predict_proba(data)[:,1]\n",
    "# # st.dataframe(data)"
   ]
  },
  {
   "cell_type": "markdown",
   "id": "14a49b3e",
   "metadata": {},
   "source": [
    "## Output basic info"
   ]
  },
  {
   "cell_type": "code",
   "execution_count": null,
   "id": "3735de3e",
   "metadata": {},
   "outputs": [],
   "source": [
    "# image = Image.open('banner.jpg')\n",
    "# st.image(image)"
   ]
  },
  {
   "cell_type": "code",
   "execution_count": null,
   "id": "bd609c7b",
   "metadata": {},
   "outputs": [],
   "source": [
    "st.image('banner.jpg')"
   ]
  },
  {
   "cell_type": "code",
   "execution_count": null,
   "id": "6b83d8fd",
   "metadata": {},
   "outputs": [],
   "source": [
    "# заголовок приложения\n",
    "st.title('Cardiovascular disease prediction')\n",
    "\n",
    "# пояснительный текст\n",
    "st.text('Enter your details on the left folding panel.')\n",
    "st.text('The prediction will change as data is entered.')\n",
    "\n",
    "st.caption('Click on sign in the left upper corner if the panel is hidden.')\n",
    "\n",
    "st.caption('------')"
   ]
  },
  {
   "cell_type": "markdown",
   "id": "f3cf1af4",
   "metadata": {},
   "source": [
    "## Input data by user"
   ]
  },
  {
   "cell_type": "code",
   "execution_count": null,
   "id": "2368d2a3",
   "metadata": {},
   "outputs": [],
   "source": [
    "# ввод данных с экрана\n",
    "\n",
    "with st.sidebar:\n",
    "\n",
    "    column_1, column_2 = st.columns(2)\n",
    "    with column_1:\n",
    "        gender_radio = st.radio('**Gender**', ['Male', 'Female'], key='gender_radio')\n",
    "        gender = 0 if gender_radio == 'Male' else 1\n",
    "    with column_2:\n",
    "        age = st.selectbox('**Age**', range(40,66), key='age')\n",
    "    \n",
    "    column_1, column_2 = st.columns(2)\n",
    "    with column_1:\n",
    "        height = st.slider('**Height**', min_value=140, max_value=200, value=170, key='height')\n",
    "    with column_2:\n",
    "        weight = st.slider('**Weight**', min_value=40, max_value=150, value=70, key='weight')\n",
    "\n",
    "    column_1, column_2 = st.columns(2)\n",
    "    with column_1:\n",
    "        ap_hi = st.slider('**Systolic blood pressure**', min_value=70, max_value=200, value=120, step=10, key='ap_hi')\n",
    "    with column_2:\n",
    "        ap_lo = st.slider('**Diastolic blood pressure**', min_value=40, max_value=ap_hi, step=10, key='ap_lo')\n",
    "\n",
    "    column_1, column_2 = st.columns(2)\n",
    "    with column_1:\n",
    "        cholesterol_radio = st.radio('**Cholesterol**', ['normal','above normal','well above normal'], key='cholesterol')\n",
    "        if cholesterol_radio == 'normal':\n",
    "            cholesterol = 1 \n",
    "        elif cholesterol_radio == 'above normal':\n",
    "            cholesterol = 2\n",
    "        else:\n",
    "            cholesterol = 3\n",
    "    with column_2:\n",
    "        gluc_radio = st.radio('**Glucose**', ['normal','above normal','well above normal'], key='gluc')\n",
    "        if gluc_radio == 'normal':\n",
    "            gluc = 1 \n",
    "        elif gluc_radio == 'above normal':\n",
    "            gluc = 2\n",
    "        else:\n",
    "            gluc = 3\n",
    "\n",
    "    habits = st.multiselect('**Bad and good habits**',\n",
    "                            ['Smoking', 'Alcohol intake', 'Physical activity'],\n",
    "                            ['Smoking', 'Alcohol intake', 'Physical activity']\n",
    "                           )\n",
    "    smoke = 1 if 'Smoking' in habits else 0\n",
    "    alco = 1 if 'Alcohol intake' in habits else 0\n",
    "    active = 1 if 'Physical activity' in habits else 0"
   ]
  },
  {
   "cell_type": "code",
   "execution_count": null,
   "id": "85d2137a",
   "metadata": {},
   "outputs": [],
   "source": [
    "# объединение введенных данных в мини-таблицу (из одной строки)\n",
    "\n",
    "data_test = pd.DataFrame(data={'gender':[gender],\n",
    "                               'age':[age],\n",
    "                               'height':[height],\n",
    "                               'weight':[weight],\n",
    "                               'ap_hi':[ap_hi],\n",
    "                               'ap_lo':[ap_lo],\n",
    "                               'cholesterol':[cholesterol],\n",
    "                               'gluc':[gluc],\n",
    "                               'smoke':[smoke],\n",
    "                               'alco':[alco],\n",
    "                               'active':[active],\n",
    "                              }\n",
    "                        )"
   ]
  },
  {
   "cell_type": "markdown",
   "id": "7fc7126e",
   "metadata": {},
   "source": [
    "## Processing user's data"
   ]
  },
  {
   "cell_type": "code",
   "execution_count": null,
   "id": "31fb657f",
   "metadata": {},
   "outputs": [],
   "source": [
    "# feature engineering\n",
    "\n",
    "for df in [data_train, data_test]:\n",
    "    df['weight_bined'] = pd.cut(df.weight, bins=np.linspace(0, 200, 51), labels=False)\n",
    "    df['height_bined'] = pd.cut(df.height, bins=np.linspace(0, 200, 51), labels=False)\n",
    "    df['age_bined'] = pd.cut(df.age, bins=np.linspace(0, 100, 51), labels=False)\n",
    "    df['aphi_bined'] = pd.cut(df.ap_hi, bins=np.linspace(0, 250, 26), labels=False)\n",
    "    df['aplo_bined'] = pd.cut(df.ap_lo, bins=np.linspace(0, 150, 16), labels=False)"
   ]
  },
  {
   "cell_type": "code",
   "execution_count": null,
   "id": "a1976eb3",
   "metadata": {},
   "outputs": [],
   "source": [
    "data_test = target_encode(data_train, data_test,\n",
    "                                      feature_list=['gender','aphi_bined','aplo_bined'],\n",
    "                                      target='cardio', agg_func_list=['mean'], fill_na=0.5)"
   ]
  },
  {
   "cell_type": "code",
   "execution_count": null,
   "id": "63203008",
   "metadata": {},
   "outputs": [],
   "source": [
    "data_test = target_encode(data_train, data_test,\n",
    "                                      feature_list=['gender','age'],\n",
    "                                      target='cardio', agg_func_list=['mean'], fill_na=0.5)"
   ]
  },
  {
   "cell_type": "code",
   "execution_count": null,
   "id": "aa09f14f",
   "metadata": {},
   "outputs": [],
   "source": [
    "data_test = target_encode(data_train, data_test,\n",
    "                                      feature_list=['gender','weight_bined','height_bined'],\n",
    "                                      target='cardio', agg_func_list=['mean'], fill_na=0.5)"
   ]
  },
  {
   "cell_type": "code",
   "execution_count": null,
   "id": "114f00b0",
   "metadata": {},
   "outputs": [],
   "source": [
    "data_test = target_encode(data_train, data_test,\n",
    "                                      feature_list=['gender','cholesterol','gluc'],\n",
    "                                      target='cardio', agg_func_list=['mean'], fill_na=0.5)"
   ]
  },
  {
   "cell_type": "code",
   "execution_count": null,
   "id": "22629cee",
   "metadata": {},
   "outputs": [],
   "source": [
    "data_test = target_encode(data_train, data_test,\n",
    "                                      feature_list=['gender','active'],\n",
    "                                      target='cardio', agg_func_list=['mean'], fill_na=0.5)"
   ]
  },
  {
   "cell_type": "code",
   "execution_count": null,
   "id": "77e7f7a9",
   "metadata": {},
   "outputs": [],
   "source": [
    "data_test = target_encode(data_train, data_test,\n",
    "                                      feature_list=['gender','smoke'],\n",
    "                                      target='cardio', agg_func_list=['mean'], fill_na=0.5)"
   ]
  },
  {
   "cell_type": "code",
   "execution_count": null,
   "id": "ba12cd59",
   "metadata": {},
   "outputs": [],
   "source": [
    "data_test = target_encode(data_train, data_test,\n",
    "                                      feature_list=['gender','alco'],\n",
    "                                      target='cardio', agg_func_list=['mean'], fill_na=0.5)"
   ]
  },
  {
   "cell_type": "code",
   "execution_count": null,
   "id": "eb2735e7",
   "metadata": {},
   "outputs": [],
   "source": [
    "# прогноз для введенных с экрана данных\n",
    "data_test['cardio'] = model.predict_proba(data_test)[:,1]"
   ]
  },
  {
   "cell_type": "markdown",
   "id": "08498f7d",
   "metadata": {},
   "source": [
    "## Output prediction"
   ]
  },
  {
   "cell_type": "code",
   "execution_count": 8,
   "id": "da69476a",
   "metadata": {},
   "outputs": [
    {
     "ename": "NameError",
     "evalue": "name 'data_test' is not defined",
     "output_type": "error",
     "traceback": [
      "\u001b[1;31m---------------------------------------------------------------------------\u001b[0m",
      "\u001b[1;31mNameError\u001b[0m                                 Traceback (most recent call last)",
      "Input \u001b[1;32mIn [8]\u001b[0m, in \u001b[0;36m<cell line: 1>\u001b[1;34m()\u001b[0m\n\u001b[1;32m----> 1\u001b[0m \u001b[38;5;28mprint\u001b[39m(\u001b[38;5;124mf\u001b[39m\u001b[38;5;124m'\u001b[39m\u001b[38;5;124mProbability of cardiovascular disease is about \u001b[39m\u001b[38;5;132;01m{\u001b[39;00mdata_test\u001b[38;5;241m.\u001b[39mcardio\u001b[38;5;241m.\u001b[39mvalue\u001b[38;5;132;01m:\u001b[39;00m\u001b[38;5;124m.1%\u001b[39m\u001b[38;5;132;01m}\u001b[39;00m\u001b[38;5;124m'\u001b[39m)\n",
      "\u001b[1;31mNameError\u001b[0m: name 'data_test' is not defined"
     ]
    }
   ],
   "source": [
    "# вывод результата\n",
    "\n",
    "disease_proba = data_test.loc[0,\"cardio\"]\n",
    "\n",
    "if disease_proba < 0.2:\n",
    "    value_color = 'green'\n",
    "elif disease_proba < 0.5:\n",
    "    value_color = 'orange'\n",
    "else:\n",
    "    value_color = 'red'\n",
    "    \n",
    "st.subheader(f'Probability of cardiovascular disease is about :{value_color}[{disease_proba : .1%}]')"
   ]
  },
  {
   "cell_type": "code",
   "execution_count": null,
   "id": "c17502a0",
   "metadata": {},
   "outputs": [],
   "source": [
    "if disease_proba >= 0.5 and smoke == 1:\n",
    "    st.write('**Бросай курить, вставай на лыжи!**')\n",
    "    \n",
    "if disease_proba >= 0.5 and alco == 1:\n",
    "    st.write('**Надо меньше пить!**')"
   ]
  },
  {
   "cell_type": "markdown",
   "id": "65a23c9a",
   "metadata": {},
   "source": [
    "## Disclamer"
   ]
  },
  {
   "cell_type": "code",
   "execution_count": null,
   "id": "0fa409ff",
   "metadata": {},
   "outputs": [],
   "source": [
    "st.caption('------')\n",
    "st.caption('**Disclaimer.** The source of the data used for this application is unknown. Therefore, this application can under no circumstances be used for practical purposes. This application is made for demonstration purposes only.')"
   ]
  },
  {
   "cell_type": "markdown",
   "id": "83d26881",
   "metadata": {},
   "source": [
    "## Final service message"
   ]
  },
  {
   "cell_type": "code",
   "execution_count": null,
   "id": "54a928b3",
   "metadata": {},
   "outputs": [],
   "source": [
    "st.caption('------')\n",
    "st.caption('*Service info: NO errors*')"
   ]
  },
  {
   "cell_type": "markdown",
   "id": "6f457bb6",
   "metadata": {},
   "source": [
    "## Remarks"
   ]
  },
  {
   "cell_type": "markdown",
   "id": "c36c277c",
   "metadata": {},
   "source": [
    "для удаленного запуска приложения из репозитория GitHub:"
   ]
  },
  {
   "cell_type": "markdown",
   "id": "be9e00ef",
   "metadata": {},
   "source": [
    "    streamlit run https://raw.githubusercontent.com/Nanobelka/Cardiovascular-disease-prediction/main/Cardio_Streamlit.py"
   ]
  },
  {
   "cell_type": "markdown",
   "id": "79ecf37d",
   "metadata": {},
   "source": [
    "для локального запуска приложения"
   ]
  },
  {
   "cell_type": "markdown",
   "id": "29320054",
   "metadata": {},
   "source": [
    "    d:  \n",
    "    cd DATA/Work_analytics/Jupyter_Notebook/Praktikum_DS/6_Cardio/Streamlit_app  \n",
    "    streamlit run Cardio_Streamlit.py  "
   ]
  }
 ],
 "metadata": {
  "kernelspec": {
   "display_name": "Python 3 (ipykernel)",
   "language": "python",
   "name": "python3"
  },
  "language_info": {
   "codemirror_mode": {
    "name": "ipython",
    "version": 3
   },
   "file_extension": ".py",
   "mimetype": "text/x-python",
   "name": "python",
   "nbconvert_exporter": "python",
   "pygments_lexer": "ipython3",
   "version": "3.9.13"
  },
  "nbTranslate": {
   "displayLangs": [
    "en",
    "ru"
   ],
   "hotkey": "alt-t",
   "langInMainMenu": false,
   "sourceLang": "ru",
   "targetLang": "en",
   "useGoogleTranslate": true
  },
  "toc": {
   "base_numbering": 1,
   "nav_menu": {},
   "number_sections": true,
   "sideBar": true,
   "skip_h1_title": true,
   "title_cell": "Содержание",
   "title_sidebar": "Contents",
   "toc_cell": false,
   "toc_position": {
    "height": "calc(100% - 180px)",
    "left": "10px",
    "top": "150px",
    "width": "199.5px"
   },
   "toc_section_display": true,
   "toc_window_display": true
  }
 },
 "nbformat": 4,
 "nbformat_minor": 5
}
